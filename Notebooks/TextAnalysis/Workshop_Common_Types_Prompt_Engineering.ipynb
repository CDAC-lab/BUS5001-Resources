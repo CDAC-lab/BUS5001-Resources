{
  "cells": [
    {
      "cell_type": "markdown",
      "id": "dccc3c48",
      "metadata": {
        "id": "dccc3c48"
      },
      "source": [
        "# Prompt Engineering Practice Notebook\n",
        "Welcome to the Prompt Engineering Lab! This notebook will guide you through hands-on activities using different prompting techniques with real-world scenarios."
      ]
    },
    {
      "cell_type": "markdown",
      "id": "b7ce8984",
      "metadata": {
        "id": "b7ce8984"
      },
      "source": [
        "## 🔹 1. Chain-of-Thought Prompting\n",
        "**Scenario**: Resource Allocation in Cloud Infrastructure\n",
        "\n",
        "You're a cloud engineer responsible for optimizing cloud costs.\n",
        "\n",
        "**Prompt**:\n",
        "```\n",
        "A client currently runs 10 virtual machines (VMs), each costing $50/month. They want to switch to serverless functions, estimated at $0.20 per million requests. If they have 100 million requests per month, will serverless be cheaper?\n",
        "\n",
        "Let's think step by step:\n",
        "```"
      ]
    },
    {
      "cell_type": "code",
      "execution_count": null,
      "id": "88fc9bf7",
      "metadata": {
        "id": "88fc9bf7"
      },
      "outputs": [],
      "source": [
        "# Try a Chain-of-Thought example using OpenAI API (if set up)\n",
        "# Uncomment and fill in your key to use\n",
        "# import openai\n",
        "# openai.api_key = \"YOUR-API-KEY\"\n",
        "\n",
        "# response = openai.Completion.create(\n",
        "#     model=\"text-davinci-003\",\n",
        "#     prompt=\"A client currently runs 10 virtual machines (VMs)... Let's think step by step:\",\n",
        "#     temperature=0,\n",
        "#     max_tokens=150\n",
        "# )\n",
        "# print(response['choices'][0]['text'])"
      ]
    },
    {
      "cell_type": "markdown",
      "id": "736177a5",
      "metadata": {
        "id": "736177a5"
      },
      "source": [
        "## Few-Shot Prompting\n",
        "**Scenario**: Classifying EdTech User Feedback\n",
        "\n",
        "**Prompt**:\n",
        "```\n",
        "Categorize the following user feedback:\n",
        "\n",
        "Feedback: \"I love how fast the lessons load now!\"  \n",
        "Category: Praise\n",
        "\n",
        "Feedback: \"Can you add dark mode to the app?\"  \n",
        "Category: Feature Request\n",
        "\n",
        "Feedback: \"The login page doesn't accept my email address.\"  \n",
        "Category: Bug Report\n",
        "\n",
        "Feedback: \"It would be great to download videos for offline use.\"\n",
        "Category:\n",
        "```"
      ]
    }
  ],
  "metadata": {
    "colab": {
      "provenance": []
    }
  },
  "nbformat": 4,
  "nbformat_minor": 5
}