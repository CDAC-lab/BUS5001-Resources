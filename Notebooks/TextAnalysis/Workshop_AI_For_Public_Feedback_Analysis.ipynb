{
  "cells": [
    {
      "cell_type": "markdown",
      "id": "2944eb50",
      "metadata": {
        "id": "2944eb50"
      },
      "source": [
        "# AI in Civic Tech: Public Feedback Analysis\n",
        "Citizens provide feedback on bike lanes, roadworks, and parks.\n",
        "\n",
        "This notebook explores using AI to:\n",
        "- Extract sentiment\n",
        "- Flag follow-up\n",
        "- Output structured data"
      ]
    },
    {
      "cell_type": "code",
      "execution_count": null,
      "id": "bc408e58",
      "metadata": {
        "id": "bc408e58"
      },
      "outputs": [],
      "source": [
        "# Install Dependencies\n",
        "!pip install transformers textblob --quiet\n",
        "from transformers import pipeline\n",
        "from textblob import TextBlob\n",
        "import json"
      ]
    },
    {
      "cell_type": "code",
      "execution_count": 1,
      "id": "892ce769",
      "metadata": {
        "id": "892ce769"
      },
      "outputs": [],
      "source": [
        "# Samples\n",
        "sample_comments = [\n",
        "    \"The new bike lanes on King Street are great, but the signs are confusing for drivers.\",\n",
        "    \"Park upgrade is nice, but the lighting at night is still terrible and unsafe.\",\n",
        "    \"I appreciate the smoother roads after the construction—finally no potholes!\"\n",
        "]"
      ]
    },
    {
      "cell_type": "code",
      "execution_count": null,
      "id": "2cb2e683",
      "metadata": {
        "id": "2cb2e683"
      },
      "outputs": [],
      "source": [
        "# Hugging Face Sentiment Classification\n",
        "classifier = pipeline(\"sentiment-analysis\")\n",
        "\n",
        "def classify_with_huggingface(text):\n",
        "    result = classifier(text)[0]\n",
        "    sentiment = result['label'].upper()\n",
        "    followup = \"Y\" if sentiment == \"NEGATIVE\" else \"N\"\n",
        "    reason = \"Safety or dissatisfaction reported.\" if followup == \"Y\" else \"No urgent concern.\"\n",
        "    return {\n",
        "        \"features\": [{\n",
        "            \"feature_name\": \"infrastructure\",\n",
        "            \"sentiment\": sentiment,\n",
        "            \"followup\": followup,\n",
        "            \"followup_reason\": reason\n",
        "        }]\n",
        "    }\n",
        "\n",
        "for comment in sample_comments:\n",
        "    print(json.dumps(classify_with_huggingface(comment), indent=2))"
      ]
    },
    {
      "cell_type": "code",
      "execution_count": null,
      "id": "7af9623b",
      "metadata": {
        "id": "7af9623b"
      },
      "outputs": [],
      "source": [
        "# TextBlob Rule Based Baseline\n",
        "def classify_with_textblob(text):\n",
        "    polarity = TextBlob(text).sentiment.polarity\n",
        "    sentiment = \"NEGATIVE\" if polarity < -0.1 else \"POSITIVE\" if polarity > 0.1 else \"NEUTRAL\"\n",
        "    followup = \"Y\" if sentiment == \"NEGATIVE\" else \"N\"\n",
        "    reason = \"Negative polarity detected.\" if followup == \"Y\" else \"No concern.\"\n",
        "    return {\n",
        "        \"features\": [{\n",
        "            \"feature_name\": \"infrastructure\",\n",
        "            \"sentiment\": sentiment,\n",
        "            \"followup\": followup,\n",
        "            \"followup_reason\": reason\n",
        "        }]\n",
        "    }\n",
        "\n",
        "for comment in sample_comments:\n",
        "    print(json.dumps(classify_with_textblob(comment), indent=2))"
      ]
    },
    {
      "cell_type": "markdown",
      "id": "34da7994",
      "metadata": {
        "id": "34da7994"
      },
      "source": [
        "## Gemini LLM:\n",
        "In this section, we use the Gemini LLM to perform sentiment analysis and identify whether a follow-up action is needed based on civic feedback.\n",
        "\n",
        "This demonstrates how a general-purpose LLM can replicate and enrich sentiment classification tasks."
      ]
    },
    {
      "cell_type": "code",
      "execution_count": 2,
      "id": "sRhmW1JGvd6q",
      "metadata": {
        "id": "sRhmW1JGvd6q"
      },
      "outputs": [],
      "source": [
        "from google import genai\n",
        "\n",
        "client = genai.Client(api_key=\"<ADD YOUR API KEY HERE>\")"
      ]
    },
    {
      "cell_type": "code",
      "execution_count": 7,
      "id": "da100226",
      "metadata": {
        "id": "da100226"
      },
      "outputs": [],
      "source": [
        "# Use Gemini to analyze feedback with corrected JSON template formatting\n",
        "def analyse_with_gemini(text):\n",
        "    prompt = f\"\"\"\n",
        "You are an assistant helping a city council analyze citizen feedback.\n",
        "Given this comment:\n",
        "'{text}'\n",
        "\n",
        "Please classify the sentiment as POSITIVE, NEGATIVE, or NEUTRAL.\n",
        "Also, indicate if follow-up is required (Y or N), and give a brief reason.\n",
        "\n",
        "Respond strictly in JSON format like this:\n",
        "{{\n",
        "  \"sentiment\": \"POSITIVE\",\n",
        "  \"followup\": \"N\",\n",
        "  \"reason\": \"No concern reported.\"\n",
        "}}\n",
        "\"\"\"\n",
        "    try:\n",
        "        response = client.models.generate_content(\n",
        "            model=\"gemini-2.0-flash\", contents=prompt\n",
        "        )\n",
        "        return response.text.strip()\n",
        "    except Exception as e:\n",
        "        return str(e)"
      ]
    },
    {
      "cell_type": "code",
      "execution_count": 8,
      "id": "3af153cc",
      "metadata": {
        "colab": {
          "base_uri": "https://localhost:8080/"
        },
        "id": "3af153cc",
        "outputId": "9d4d3b38-1293-4653-91ed-d52634361629"
      },
      "outputs": [
        {
          "output_type": "stream",
          "name": "stdout",
          "text": [
            "Feedback: The new bike lanes on King Street are great, but the signs are confusing for drivers.\n",
            "```json\n",
            "{\n",
            "  \"sentiment\": \"POSITIVE\",\n",
            "  \"followup\": \"Y\",\n",
            "  \"reason\": \"While the overall sentiment towards the bike lanes is positive, there is a specific concern about confusing signage that warrants further investigation and potential action.\"\n",
            "}\n",
            "```\n",
            "Feedback: Park upgrade is nice, but the lighting at night is still terrible and unsafe.\n",
            "```json\n",
            "{\n",
            "  \"sentiment\": \"NEGATIVE\",\n",
            "  \"followup\": \"Y\",\n",
            "  \"reason\": \"Reports unsafe lighting conditions at night.\"\n",
            "}\n",
            "```\n",
            "Feedback: I appreciate the smoother roads after the construction—finally no potholes!\n",
            "```json\n",
            "{\n",
            "  \"sentiment\": \"POSITIVE\",\n",
            "  \"followup\": \"N\",\n",
            "  \"reason\": \"No concern reported.\"\n",
            "}\n",
            "```\n"
          ]
        }
      ],
      "source": [
        "# 📊 Apply Gemini classification to each comment\n",
        "# This demo just shows the first 3 results for quick testing\n",
        "for comment in sample_comments[:3]:\n",
        "    print(f\"Feedback: {comment}\")\n",
        "    print(analyse_with_gemini(comment))"
      ]
    },
    {
      "cell_type": "markdown",
      "id": "d8a646c0",
      "metadata": {
        "id": "d8a646c0"
      },
      "source": [
        "## 📘 Reflection\n",
        "- Where did the models agree/disagree?\n",
        "- Which model handled nuance better?"
      ]
    }
  ],
  "metadata": {
    "colab": {
      "provenance": []
    },
    "kernelspec": {
      "display_name": "Python 3",
      "name": "python3"
    },
    "language_info": {
      "name": "python"
    }
  },
  "nbformat": 4,
  "nbformat_minor": 5
}