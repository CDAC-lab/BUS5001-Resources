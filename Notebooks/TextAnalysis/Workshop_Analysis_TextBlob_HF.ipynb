{
  "cells": [
    {
      "cell_type": "markdown",
      "id": "8cf831de",
      "metadata": {
        "id": "8cf831de"
      },
      "source": [
        "# Sentiment Analysis & Comparison: TextBlob vs Hugging Face\n",
        "This notebook loads text reviews from a CSV file and performs sentiment analysis using:\n",
        "- **TextBlob** (rule-based sentiment analysis)\n",
        "- **Hugging Face Transformers** (deep learning-based classifier)\n",
        "- Then compares the two outputs and optionally performs text classification."
      ]
    },
    {
      "cell_type": "markdown",
      "id": "f48c68af",
      "metadata": {
        "id": "f48c68af"
      },
      "source": [
        "## 1. Load Data\n",
        "Ensure your CSV file contains a column named `'review'` with one review per row."
      ]
    },
    {
      "cell_type": "markdown",
      "id": "3e8c87cf",
      "metadata": {
        "id": "3e8c87cf"
      },
      "source": [
        "## Reuse Instructions\n",
        "This notebook is designed to be reusable for any kind of text-based review dataset.\n",
        "\n",
        "### How to Adapt It\n",
        "1. Ensure your CSV file has a column with the text you want to analyze (e.g., `review`, `comment`, `feedback`).\n",
        "2. Update the file name and column name in the notebook where the data is loaded:\n",
        "   ```python\n",
        "   df = pd.read_csv('your_file.csv')\n",
        "   df = df.dropna(subset=['your_column_name'])\n",
        "   df.rename(columns={'your_column_name': 'review'}, inplace=True)\n",
        "   ```\n",
        "3. You can now reuse the rest of the notebook without changes.\n",
        "4. For very large datasets, consider applying the Hugging Face classifier on a sample (e.g., `.head(100)`) to avoid timeouts.\n",
        "\n",
        "### Optional: Replace Zero-Shot Labels\n",
        "In the final section, change the candidate labels to suit your context:\n",
        "```python\n",
        "labels = ['sustainability', 'product design', 'usability', 'warranty']\n",
        "```"
      ]
    },
    {
      "cell_type": "code",
      "execution_count": null,
      "id": "ee169232",
      "metadata": {
        "id": "ee169232"
      },
      "outputs": [],
      "source": [
        "# Install dependencies\n",
        "!pip install pandas textblob transformers --quiet\n",
        "import pandas as pd\n",
        "from textblob import TextBlob\n",
        "from transformers import pipeline"
      ]
    },
    {
      "cell_type": "code",
      "execution_count": null,
      "id": "5ecd0f75",
      "metadata": {
        "id": "5ecd0f75"
      },
      "outputs": [],
      "source": [
        "# Load the CSV file (upload manually or specify path)\n",
        "# Example: reviews.csv with column: 'review'\n",
        "# Load your dataset here (make sure to have a column with review text)\n",
        "df = pd.read_csv('reviews.csv')\n",
        "# Remove rows where the review is missing\n",
        "df = df.dropna(subset=['review'])  # remove any missing rows\n",
        "df.head()"
      ]
    },
    {
      "cell_type": "markdown",
      "id": "d5655267",
      "metadata": {
        "id": "d5655267"
      },
      "source": [
        "## 2. Sentiment with TextBlob"
      ]
    },
    {
      "cell_type": "code",
      "execution_count": null,
      "id": "7761879b",
      "metadata": {
        "id": "7761879b"
      },
      "outputs": [],
      "source": [
        "# Define function using TextBlob to extract polarity-based sentiment\n",
        "def analyze_textblob(text):\n",
        "# Get the polarity score: -1 (negative) to +1 (positive)\n",
        "    polarity = TextBlob(text).sentiment.polarity\n",
        "    if polarity > 0.1:\n",
        "        return \"POSITIVE\"\n",
        "    elif polarity < -0.1:\n",
        "        return \"NEGATIVE\"\n",
        "    else:\n",
        "        return \"NEUTRAL\"\n",
        "\n",
        "df['sentiment_textblob'] = df['review'].apply(analyze_textblob)\n",
        "df[['review', 'sentiment_textblob']].head()"
      ]
    },
    {
      "cell_type": "markdown",
      "id": "69ddda30",
      "metadata": {
        "id": "69ddda30"
      },
      "source": [
        "## 3. Sentiment with Hugging Face Transformers"
      ]
    },
    {
      "cell_type": "code",
      "execution_count": null,
      "id": "5f06cbe6",
      "metadata": {
        "id": "5f06cbe6"
      },
      "outputs": [],
      "source": [
        "# Load the sentiment-analysis pipeline\n",
        "# Load pre-trained Hugging Face pipeline for sentiment classification\n",
        "hf_sentiment = pipeline(\"sentiment-analysis\")\n",
        "\n",
        "# Apply to reviews (may take time)\n",
        "# Apply sentiment classifier to each review and convert label to uppercase\n",
        "df['sentiment_huggingface'] = df['review'].apply(lambda x: hf_sentiment(x)[0]['label'].upper())\n",
        "df[['review', 'sentiment_textblob', 'sentiment_huggingface']].head()"
      ]
    },
    {
      "cell_type": "markdown",
      "id": "e1ba7dc3",
      "metadata": {
        "id": "e1ba7dc3"
      },
      "source": [
        "## 4. Compare the Results"
      ]
    },
    {
      "cell_type": "code",
      "execution_count": null,
      "id": "26df6e8d",
      "metadata": {
        "id": "26df6e8d"
      },
      "outputs": [],
      "source": [
        "# Compare side-by-side\n",
        "# Compare if both methods agree on the sentiment\n",
        "df['agree'] = df['sentiment_textblob'] == df['sentiment_huggingface']\n",
        "agreement_rate = df['agree'].mean()\n",
        "# Display the result\n",
        "print(f\"TextBlob and Hugging Face agree on {agreement_rate:.2%} of the reviews\")\n",
        "df[['review', 'sentiment_textblob', 'sentiment_huggingface', 'agree']].head(10)"
      ]
    },
    {
      "cell_type": "markdown",
      "id": "1d2aa599",
      "metadata": {
        "id": "1d2aa599"
      },
      "source": [
        "## 5. Text Classification (e.g. topic prediction)"
      ]
    },
    {
      "cell_type": "code",
      "execution_count": null,
      "id": "ad48dd70",
      "metadata": {
        "id": "ad48dd70"
      },
      "outputs": [],
      "source": [
        "# Load zero-shot-classification pipeline\n",
        "# Load zero-shot classifier for multi-label prediction\n",
        "classifier = pipeline(\"zero-shot-classification\")\n",
        "# Customize these labels depending on the topic of your reviews\n",
        "labels = [\"product quality\", \"customer service\", \"delivery\", \"pricing\"]\n",
        "\n",
        "# Apply to first 5 reviews as demo\n",
        "for review in df['review'].head(5):\n",
        "# Apply classifier to the review using candidate labels\n",
        "    result = classifier(review, candidate_labels=labels)\n",
        "# Display the result\n",
        "    print(f\"\\nReview: {review}\\nTop Label: {result['labels'][0]} with score {result['scores'][0]:.2f}\")"
      ]
    }
  ],
  "metadata": {
    "colab": {
      "provenance": []
    }
  },
  "nbformat": 4,
  "nbformat_minor": 5
}