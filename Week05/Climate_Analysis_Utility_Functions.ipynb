{
  "cells": [
    {
      "cell_type": "markdown",
      "metadata": {
        "colab_type": "text",
        "id": "view-in-github"
      },
      "source": [
        "<a href=\"https://colab.research.google.com/github/nmills/climate-utility-functions/blob/main/Climate_Analysis_Utility_Functions.ipynb\" target=\"_parent\"><img src=\"https://colab.research.google.com/assets/colab-badge.svg\" alt=\"Open In Colab\"/></a>"
      ]
    },
    {
      "cell_type": "markdown",
      "metadata": {
        "id": "CkE5f-wky9lG"
      },
      "source": [
        "# Exploration of Ambient Conditions\n"
      ]
    },
    {
      "cell_type": "code",
      "execution_count": null,
      "metadata": {
        "id": "z_alcb0e0VGd"
      },
      "outputs": [],
      "source": [
        "import math\n",
        "import numpy as np"
      ]
    },
    {
      "cell_type": "markdown",
      "metadata": {
        "id": "EztLA6sOzSpU"
      },
      "source": [
        "## Feels Like Temperature\n",
        "\n",
        "Calculating the apparent \"feels like\" temperature\n",
        "\n",
        "Formula adopted from the work done by [Steadman et. al. (1994)](http://www.bom.gov.au/jshess/docs/1994/steadman.pdf) "
      ]
    },
    {
      "cell_type": "code",
      "execution_count": null,
      "metadata": {
        "id": "6qa7I8coy27C"
      },
      "outputs": [],
      "source": [
        "def calculate_water_vapour_pressure(relative_humidity, dry_bulb_temperature):\n",
        "    \"\"\"\n",
        "    Calculate the value for water vapour pressure.\n",
        "    e = rh / 100 × 6.105 × exp ( 17.27 × Ta / ( 237.7 + Ta ) )\n",
        "\n",
        "    :parameters\n",
        "    ----------\n",
        "    relative_humidity:\n",
        "\n",
        "    dry_bulb_temperature:\n",
        "\n",
        "    :return: e or water vapour pressure\n",
        "    \"\"\"\n",
        "\n",
        "    return (relative_humidity / 100) * 6.105 * math.exp((17.27 * dry_bulb_temperature) / (237.7 + dry_bulb_temperature))"
      ]
    },
    {
      "cell_type": "code",
      "execution_count": null,
      "metadata": {
        "id": "1fwSgVaH0Dc6"
      },
      "outputs": [],
      "source": [
        "def calculate_apparent_temperature(dry_bulb_temperature, relative_humidity, wind_speed):\n",
        "    \"\"\"\n",
        "    Including the effects of temperature, humidity, and wind:\n",
        "    AT = Ta + 0.33×e − 0.70×ws − 4.00\n",
        "\n",
        "    :parameters\n",
        "    ----------\n",
        "    dry_bulb_temperature:\n",
        "\n",
        "    relative_humidity:\n",
        "\n",
        "    wind_speed:\n",
        "\n",
        "    :return:\n",
        "    \"\"\"\n",
        "\n",
        "    return (dry_bulb_temperature + 0.33 * calculate_water_vapour_pressure(relative_humidity, dry_bulb_temperature)) \\\n",
        "           - (0.7 * (wind_speed / 3.6)) \\\n",
        "           - 4"
      ]
    },
    {
      "cell_type": "code",
      "execution_count": null,
      "metadata": {
        "colab": {
          "base_uri": "https://localhost:8080/"
        },
        "id": "7OPa9uDM0G0_",
        "outputId": "b3c4621c-cf27-4819-f235-29c4670aabaa"
      },
      "outputs": [
        {
          "name": "stdout",
          "output_type": "stream",
          "text": [
            "7.636319392877429\n",
            "5.101950662573325\n"
          ]
        }
      ],
      "source": [
        "print(calculate_apparent_temperature(10.5, 69.0, 9.0))\n",
        "print(calculate_apparent_temperature(7.7, 91.0, 9.0))"
      ]
    },
    {
      "cell_type": "markdown",
      "metadata": {},
      "source": [
        "The function below will bring our Apparent Temperature calculation functions together in the entry point of a Google Cloud Function. It assumes that the parameters that have been passed are dry_bulb_temperature, relative_humidity, wind_speed.\n",
        "\n",
        "Once deployed you can use the following line in the cloud console to call the function\n",
        "\n",
        "`gcloud functions call get-feels-like-temp --data '{ \"dry_bulb_temperature\":\"10.5\", \"relative_humidity\":\"69.0\", \"wind_speed\":\"9.0\" }'"
      ]
    },
    {
      "cell_type": "code",
      "execution_count": null,
      "metadata": {},
      "outputs": [],
      "source": [
        "def cal_app_tmp(request):\n",
        "    \"\"\"Responds to any HTTP request.\n",
        "    Args:\n",
        "        request (flask.Request): HTTP request object.\n",
        "    Returns:\n",
        "        The response text or any set of values that can be turned into a\n",
        "        Response object using\n",
        "        `make_response <http://flask.pocoo.org/docs/1.0/api/#flask.Flask.make_response>`.\n",
        "    \"\"\"\n",
        "    request_json = request.get_json()\n",
        "\n",
        "    if not request_json:\n",
        "        return {\"message\": \"Request parameters corrupted.\"}, 400\n",
        "\n",
        "    try:\n",
        "\n",
        "        dry_bulb_temperature = float(request_json['dry_bulb_temperature'])\n",
        "        relative_humidity = float(request_json['relative_humidity'])\n",
        "        wind_speed = float(request_json['wind_speed'])\n",
        "\n",
        "    except KeyError as err:\n",
        "        return {\"message\": \"No request parameters available\"}, 422\n",
        "\n",
        "    return str(calculate_apparent_temperature(dry_bulb_temperature, relative_humidity, wind_speed))"
      ]
    },
    {
      "cell_type": "markdown",
      "metadata": {
        "id": "QGPQS8ROKxoj"
      },
      "source": []
    }
  ],
  "metadata": {
    "colab": {
      "authorship_tag": "ABX9TyOHJH7rQbmpM8ChCUHr+bJn",
      "include_colab_link": true,
      "provenance": [],
      "toc_visible": true
    },
    "kernelspec": {
      "display_name": "Python 3",
      "name": "python3"
    },
    "language_info": {
      "name": "python"
    }
  },
  "nbformat": 4,
  "nbformat_minor": 0
}
